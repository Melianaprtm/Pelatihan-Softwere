{
 "cells": [
  {
   "cell_type": "code",
   "execution_count": 1,
   "id": "07f59926",
   "metadata": {},
   "outputs": [],
   "source": [
    "import pandas as pd"
   ]
  },
  {
   "cell_type": "code",
   "execution_count": 2,
   "id": "54d48d97",
   "metadata": {},
   "outputs": [],
   "source": [
    "data = pd.read_csv('https://raw.githubusercontent.com/imdwipayana/Python-Project-2023/main/Project/asuransi_mobil.csv')"
   ]
  },
  {
   "cell_type": "code",
   "execution_count": 3,
   "id": "b881a1f6",
   "metadata": {},
   "outputs": [
    {
     "data": {
      "text/html": [
       "<div>\n",
       "<style scoped>\n",
       "    .dataframe tbody tr th:only-of-type {\n",
       "        vertical-align: middle;\n",
       "    }\n",
       "\n",
       "    .dataframe tbody tr th {\n",
       "        vertical-align: top;\n",
       "    }\n",
       "\n",
       "    .dataframe thead th {\n",
       "        text-align: right;\n",
       "    }\n",
       "</style>\n",
       "<table border=\"1\" class=\"dataframe\">\n",
       "  <thead>\n",
       "    <tr style=\"text-align: right;\">\n",
       "      <th></th>\n",
       "      <th>IDENTITAS</th>\n",
       "      <th>UMUR</th>\n",
       "      <th>JENIS_KELAMIN</th>\n",
       "      <th>PENGALAMAN_MENGEMUDI</th>\n",
       "      <th>PENDIDIKAN</th>\n",
       "      <th>PENGHASILAN</th>\n",
       "      <th>SKOR_KREDIT</th>\n",
       "      <th>PEMILIK_KENDARAAN</th>\n",
       "      <th>TAHUN_PRODUKSI</th>\n",
       "      <th>STATUS</th>\n",
       "      <th>ANAK</th>\n",
       "      <th>KODE_POS</th>\n",
       "      <th>KM_PER_TAHUN</th>\n",
       "      <th>JENIS_KENDARAAN</th>\n",
       "      <th>TILANG_NGEBUT</th>\n",
       "      <th>TILANG_MABUK</th>\n",
       "      <th>KECELAKAAN_SEBELUMNYA</th>\n",
       "      <th>KLAIM</th>\n",
       "    </tr>\n",
       "  </thead>\n",
       "  <tbody>\n",
       "    <tr>\n",
       "      <th>0</th>\n",
       "      <td>569520</td>\n",
       "      <td>lebih dari 65 tahun</td>\n",
       "      <td>perempuan</td>\n",
       "      <td>kurang dari 10 tahun</td>\n",
       "      <td>SMA</td>\n",
       "      <td>lebih dari 3x UMR</td>\n",
       "      <td>0.629027</td>\n",
       "      <td>ya</td>\n",
       "      <td>setelah 2020</td>\n",
       "      <td>belum menikah</td>\n",
       "      <td>ada</td>\n",
       "      <td>10238</td>\n",
       "      <td>12000.0</td>\n",
       "      <td>keluarga</td>\n",
       "      <td>0</td>\n",
       "      <td>0</td>\n",
       "      <td>0</td>\n",
       "      <td>tidak</td>\n",
       "    </tr>\n",
       "    <tr>\n",
       "      <th>1</th>\n",
       "      <td>750365</td>\n",
       "      <td>kurang dari 25 tahun</td>\n",
       "      <td>laki-laki</td>\n",
       "      <td>kurang dari 10 tahun</td>\n",
       "      <td>tidak ada</td>\n",
       "      <td>kurang dari UMR</td>\n",
       "      <td>0.357757</td>\n",
       "      <td>tidak</td>\n",
       "      <td>sebelum 2020</td>\n",
       "      <td>belum menikah</td>\n",
       "      <td>tidak ada</td>\n",
       "      <td>10238</td>\n",
       "      <td>16000.0</td>\n",
       "      <td>keluarga</td>\n",
       "      <td>0</td>\n",
       "      <td>0</td>\n",
       "      <td>0</td>\n",
       "      <td>ya</td>\n",
       "    </tr>\n",
       "    <tr>\n",
       "      <th>2</th>\n",
       "      <td>199901</td>\n",
       "      <td>kurang dari 25 tahun</td>\n",
       "      <td>perempuan</td>\n",
       "      <td>kurang dari 10 tahun</td>\n",
       "      <td>SMA</td>\n",
       "      <td>antara 1-2x UMR</td>\n",
       "      <td>0.493146</td>\n",
       "      <td>ya</td>\n",
       "      <td>sebelum 2020</td>\n",
       "      <td>belum menikah</td>\n",
       "      <td>tidak ada</td>\n",
       "      <td>10238</td>\n",
       "      <td>11000.0</td>\n",
       "      <td>keluarga</td>\n",
       "      <td>0</td>\n",
       "      <td>0</td>\n",
       "      <td>0</td>\n",
       "      <td>tidak</td>\n",
       "    </tr>\n",
       "    <tr>\n",
       "      <th>3</th>\n",
       "      <td>478866</td>\n",
       "      <td>kurang dari 25 tahun</td>\n",
       "      <td>laki-laki</td>\n",
       "      <td>kurang dari 10 tahun</td>\n",
       "      <td>universitas</td>\n",
       "      <td>antara 1-2x UMR</td>\n",
       "      <td>0.206013</td>\n",
       "      <td>ya</td>\n",
       "      <td>sebelum 2020</td>\n",
       "      <td>belum menikah</td>\n",
       "      <td>ada</td>\n",
       "      <td>32765</td>\n",
       "      <td>11000.0</td>\n",
       "      <td>keluarga</td>\n",
       "      <td>0</td>\n",
       "      <td>0</td>\n",
       "      <td>0</td>\n",
       "      <td>tidak</td>\n",
       "    </tr>\n",
       "  </tbody>\n",
       "</table>\n",
       "</div>"
      ],
      "text/plain": [
       "   IDENTITAS                  UMUR JENIS_KELAMIN  PENGALAMAN_MENGEMUDI  \\\n",
       "0     569520   lebih dari 65 tahun     perempuan  kurang dari 10 tahun   \n",
       "1     750365  kurang dari 25 tahun     laki-laki  kurang dari 10 tahun   \n",
       "2     199901  kurang dari 25 tahun     perempuan  kurang dari 10 tahun   \n",
       "3     478866  kurang dari 25 tahun     laki-laki  kurang dari 10 tahun   \n",
       "\n",
       "    PENDIDIKAN        PENGHASILAN  SKOR_KREDIT PEMILIK_KENDARAAN  \\\n",
       "0          SMA  lebih dari 3x UMR     0.629027                ya   \n",
       "1    tidak ada    kurang dari UMR     0.357757             tidak   \n",
       "2          SMA    antara 1-2x UMR     0.493146                ya   \n",
       "3  universitas    antara 1-2x UMR     0.206013                ya   \n",
       "\n",
       "  TAHUN_PRODUKSI         STATUS       ANAK  KODE_POS  KM_PER_TAHUN  \\\n",
       "0   setelah 2020  belum menikah        ada     10238       12000.0   \n",
       "1   sebelum 2020  belum menikah  tidak ada     10238       16000.0   \n",
       "2   sebelum 2020  belum menikah  tidak ada     10238       11000.0   \n",
       "3   sebelum 2020  belum menikah        ada     32765       11000.0   \n",
       "\n",
       "  JENIS_KENDARAAN  TILANG_NGEBUT  TILANG_MABUK  KECELAKAAN_SEBELUMNYA  KLAIM  \n",
       "0        keluarga              0             0                      0  tidak  \n",
       "1        keluarga              0             0                      0     ya  \n",
       "2        keluarga              0             0                      0  tidak  \n",
       "3        keluarga              0             0                      0  tidak  "
      ]
     },
     "execution_count": 3,
     "metadata": {},
     "output_type": "execute_result"
    }
   ],
   "source": [
    "data.head(4)"
   ]
  },
  {
   "cell_type": "code",
   "execution_count": 4,
   "id": "5f70cec3",
   "metadata": {},
   "outputs": [
    {
     "data": {
      "text/html": [
       "<div>\n",
       "<style scoped>\n",
       "    .dataframe tbody tr th:only-of-type {\n",
       "        vertical-align: middle;\n",
       "    }\n",
       "\n",
       "    .dataframe tbody tr th {\n",
       "        vertical-align: top;\n",
       "    }\n",
       "\n",
       "    .dataframe thead th {\n",
       "        text-align: right;\n",
       "    }\n",
       "</style>\n",
       "<table border=\"1\" class=\"dataframe\">\n",
       "  <thead>\n",
       "    <tr style=\"text-align: right;\">\n",
       "      <th></th>\n",
       "      <th>IDENTITAS</th>\n",
       "      <th>SKOR_KREDIT</th>\n",
       "      <th>KODE_POS</th>\n",
       "      <th>KM_PER_TAHUN</th>\n",
       "      <th>TILANG_NGEBUT</th>\n",
       "      <th>TILANG_MABUK</th>\n",
       "      <th>KECELAKAAN_SEBELUMNYA</th>\n",
       "    </tr>\n",
       "  </thead>\n",
       "  <tbody>\n",
       "    <tr>\n",
       "      <th>count</th>\n",
       "      <td>10000.000000</td>\n",
       "      <td>9018.000000</td>\n",
       "      <td>10000.000000</td>\n",
       "      <td>9043.000000</td>\n",
       "      <td>10000.000000</td>\n",
       "      <td>10000.00000</td>\n",
       "      <td>10000.000000</td>\n",
       "    </tr>\n",
       "    <tr>\n",
       "      <th>mean</th>\n",
       "      <td>500521.906800</td>\n",
       "      <td>0.515813</td>\n",
       "      <td>19864.548400</td>\n",
       "      <td>11697.003207</td>\n",
       "      <td>1.482900</td>\n",
       "      <td>0.23920</td>\n",
       "      <td>1.056300</td>\n",
       "    </tr>\n",
       "    <tr>\n",
       "      <th>std</th>\n",
       "      <td>290030.768758</td>\n",
       "      <td>0.137688</td>\n",
       "      <td>18915.613855</td>\n",
       "      <td>2818.434528</td>\n",
       "      <td>2.241966</td>\n",
       "      <td>0.55499</td>\n",
       "      <td>1.652454</td>\n",
       "    </tr>\n",
       "    <tr>\n",
       "      <th>min</th>\n",
       "      <td>101.000000</td>\n",
       "      <td>0.053358</td>\n",
       "      <td>10238.000000</td>\n",
       "      <td>2000.000000</td>\n",
       "      <td>0.000000</td>\n",
       "      <td>0.00000</td>\n",
       "      <td>0.000000</td>\n",
       "    </tr>\n",
       "    <tr>\n",
       "      <th>25%</th>\n",
       "      <td>249638.500000</td>\n",
       "      <td>0.417191</td>\n",
       "      <td>10238.000000</td>\n",
       "      <td>10000.000000</td>\n",
       "      <td>0.000000</td>\n",
       "      <td>0.00000</td>\n",
       "      <td>0.000000</td>\n",
       "    </tr>\n",
       "    <tr>\n",
       "      <th>50%</th>\n",
       "      <td>501777.000000</td>\n",
       "      <td>0.525033</td>\n",
       "      <td>10238.000000</td>\n",
       "      <td>12000.000000</td>\n",
       "      <td>0.000000</td>\n",
       "      <td>0.00000</td>\n",
       "      <td>0.000000</td>\n",
       "    </tr>\n",
       "    <tr>\n",
       "      <th>75%</th>\n",
       "      <td>753974.500000</td>\n",
       "      <td>0.618312</td>\n",
       "      <td>32765.000000</td>\n",
       "      <td>14000.000000</td>\n",
       "      <td>2.000000</td>\n",
       "      <td>0.00000</td>\n",
       "      <td>2.000000</td>\n",
       "    </tr>\n",
       "    <tr>\n",
       "      <th>max</th>\n",
       "      <td>999976.000000</td>\n",
       "      <td>0.960819</td>\n",
       "      <td>92101.000000</td>\n",
       "      <td>22000.000000</td>\n",
       "      <td>22.000000</td>\n",
       "      <td>6.00000</td>\n",
       "      <td>15.000000</td>\n",
       "    </tr>\n",
       "  </tbody>\n",
       "</table>\n",
       "</div>"
      ],
      "text/plain": [
       "           IDENTITAS  SKOR_KREDIT      KODE_POS  KM_PER_TAHUN  TILANG_NGEBUT  \\\n",
       "count   10000.000000  9018.000000  10000.000000   9043.000000   10000.000000   \n",
       "mean   500521.906800     0.515813  19864.548400  11697.003207       1.482900   \n",
       "std    290030.768758     0.137688  18915.613855   2818.434528       2.241966   \n",
       "min       101.000000     0.053358  10238.000000   2000.000000       0.000000   \n",
       "25%    249638.500000     0.417191  10238.000000  10000.000000       0.000000   \n",
       "50%    501777.000000     0.525033  10238.000000  12000.000000       0.000000   \n",
       "75%    753974.500000     0.618312  32765.000000  14000.000000       2.000000   \n",
       "max    999976.000000     0.960819  92101.000000  22000.000000      22.000000   \n",
       "\n",
       "       TILANG_MABUK  KECELAKAAN_SEBELUMNYA  \n",
       "count   10000.00000           10000.000000  \n",
       "mean        0.23920               1.056300  \n",
       "std         0.55499               1.652454  \n",
       "min         0.00000               0.000000  \n",
       "25%         0.00000               0.000000  \n",
       "50%         0.00000               0.000000  \n",
       "75%         0.00000               2.000000  \n",
       "max         6.00000              15.000000  "
      ]
     },
     "execution_count": 4,
     "metadata": {},
     "output_type": "execute_result"
    }
   ],
   "source": [
    "data.describe()"
   ]
  },
  {
   "cell_type": "code",
   "execution_count": 5,
   "id": "f17dba14",
   "metadata": {},
   "outputs": [
    {
     "data": {
      "text/plain": [
       "IDENTITAS                  int64\n",
       "UMUR                      object\n",
       "JENIS_KELAMIN             object\n",
       "PENGALAMAN_MENGEMUDI      object\n",
       "PENDIDIKAN                object\n",
       "PENGHASILAN               object\n",
       "SKOR_KREDIT              float64\n",
       "PEMILIK_KENDARAAN         object\n",
       "TAHUN_PRODUKSI            object\n",
       "STATUS                    object\n",
       "ANAK                      object\n",
       "KODE_POS                   int64\n",
       "KM_PER_TAHUN             float64\n",
       "JENIS_KENDARAAN           object\n",
       "TILANG_NGEBUT              int64\n",
       "TILANG_MABUK               int64\n",
       "KECELAKAAN_SEBELUMNYA      int64\n",
       "KLAIM                     object\n",
       "dtype: object"
      ]
     },
     "execution_count": 5,
     "metadata": {},
     "output_type": "execute_result"
    }
   ],
   "source": [
    "data.dtypes"
   ]
  },
  {
   "cell_type": "code",
   "execution_count": 6,
   "id": "5bac8235",
   "metadata": {},
   "outputs": [
    {
     "data": {
      "text/plain": [
       "IDENTITAS                  0\n",
       "UMUR                       0\n",
       "JENIS_KELAMIN              0\n",
       "PENGALAMAN_MENGEMUDI       0\n",
       "PENDIDIKAN                 0\n",
       "PENGHASILAN                0\n",
       "SKOR_KREDIT              982\n",
       "PEMILIK_KENDARAAN          0\n",
       "TAHUN_PRODUKSI             0\n",
       "STATUS                     0\n",
       "ANAK                       0\n",
       "KODE_POS                   0\n",
       "KM_PER_TAHUN             957\n",
       "JENIS_KENDARAAN            0\n",
       "TILANG_NGEBUT              0\n",
       "TILANG_MABUK               0\n",
       "KECELAKAAN_SEBELUMNYA      0\n",
       "KLAIM                      0\n",
       "dtype: int64"
      ]
     },
     "execution_count": 6,
     "metadata": {},
     "output_type": "execute_result"
    }
   ],
   "source": [
    "data.isnull().sum()"
   ]
  },
  {
   "cell_type": "code",
   "execution_count": 7,
   "id": "be962381",
   "metadata": {},
   "outputs": [
    {
     "data": {
      "text/plain": [
       "array(['lebih dari 65 tahun', 'kurang dari 25 tahun',\n",
       "       'antara 25-40 tahun', 'antara 40-65 tahun'], dtype=object)"
      ]
     },
     "execution_count": 7,
     "metadata": {},
     "output_type": "execute_result"
    }
   ],
   "source": [
    "data.UMUR.unique()"
   ]
  },
  {
   "cell_type": "code",
   "execution_count": 8,
   "id": "43acc9e8",
   "metadata": {},
   "outputs": [
    {
     "ename": "NameError",
     "evalue": "name 'data_drop' is not defined",
     "output_type": "error",
     "traceback": [
      "\u001b[1;31m---------------------------------------------------------------------------\u001b[0m",
      "\u001b[1;31mNameError\u001b[0m                                 Traceback (most recent call last)",
      "Cell \u001b[1;32mIn[8], line 2\u001b[0m\n\u001b[0;32m      1\u001b[0m data_drop[\u001b[38;5;124m'\u001b[39m\u001b[38;5;124mUMUR\u001b[39m\u001b[38;5;124m'\u001b[39m] \u001b[38;5;241m=\u001b[39m \\\n\u001b[1;32m----> 2\u001b[0m \u001b[43mdata_drop\u001b[49m[\u001b[38;5;124m'\u001b[39m\u001b[38;5;124mUMUR\u001b[39m\u001b[38;5;124m'\u001b[39m]\u001b[38;5;241m.\u001b[39mmap({\u001b[38;5;124m'\u001b[39m\u001b[38;5;124mlebih dari 65 tahun\u001b[39m\u001b[38;5;124m'\u001b[39m:\u001b[38;5;241m0\u001b[39m,\u001b[38;5;124m'\u001b[39m\u001b[38;5;124mantara 40-65\u001b[39m\u001b[38;5;124m'\u001b[39m:\u001b[38;5;241m1\u001b[39m,\u001b[38;5;124m'\u001b[39m\u001b[38;5;124mantara 25-40 tahun\u001b[39m\u001b[38;5;124m'\u001b[39m:\u001b[38;5;241m2\u001b[39m,\u001b[38;5;124m'\u001b[39m\u001b[38;5;124mkurang dari 25 tahun\u001b[39m\u001b[38;5;124m'\u001b[39m:\u001b[38;5;241m3\u001b[39m})\n",
      "\u001b[1;31mNameError\u001b[0m: name 'data_drop' is not defined"
     ]
    }
   ],
   "source": [
    "data_drop['UMUR'] = \\\n",
    "data_drop['UMUR'].map({'lebih dari 65 tahun':0,'antara 40-65':1,'antara 25-40 tahun':2,'kurang dari 25 tahun':3})"
   ]
  },
  {
   "cell_type": "code",
   "execution_count": null,
   "id": "6fcb5a36",
   "metadata": {},
   "outputs": [],
   "source": [
    "data.JENIS_KELAMIN.unique()"
   ]
  },
  {
   "cell_type": "code",
   "execution_count": null,
   "id": "6e9fe87c",
   "metadata": {},
   "outputs": [],
   "source": [
    "data_drop['JENIS_KELAMIN'] = \\\n",
    "data_drop['JENIS_KELAMIN'].map({'perempuan':0,'laki-laki':1})"
   ]
  },
  {
   "cell_type": "code",
   "execution_count": null,
   "id": "c887168e",
   "metadata": {},
   "outputs": [],
   "source": [
    "data_categorical =['SKOR_KREDIT','KM_PER_TAHUN']"
   ]
  },
  {
   "cell_type": "code",
   "execution_count": null,
   "id": "c98d5802",
   "metadata": {},
   "outputs": [],
   "source": [
    "data_drop = data.drop(data_categorical, axis =1) "
   ]
  },
  {
   "cell_type": "code",
   "execution_count": null,
   "id": "79cfce9b",
   "metadata": {},
   "outputs": [],
   "source": [
    "data_drop.head()"
   ]
  },
  {
   "cell_type": "code",
   "execution_count": null,
   "id": "fb48e652",
   "metadata": {},
   "outputs": [],
   "source": [
    "data_drop.isnull().sum()"
   ]
  },
  {
   "cell_type": "code",
   "execution_count": null,
   "id": "838f04ea",
   "metadata": {},
   "outputs": [],
   "source": [
    "data.PENGALAMAN_MENGEMUDI.unique()"
   ]
  },
  {
   "cell_type": "code",
   "execution_count": null,
   "id": "52c685fb",
   "metadata": {},
   "outputs": [],
   "source": [
    "data_drop['PENGALAMAN_MENGEMUDI'] = \\\n",
    "data['PENGALAMAN_MENGEMUDI'].map({'lebih dari 30 tahun':3, 'antara 20-30 tahun':2, 'antara 10-20 tahun':1,'kurang dari 10 tahun':0})"
   ]
  },
  {
   "cell_type": "code",
   "execution_count": null,
   "id": "22ca7036",
   "metadata": {},
   "outputs": [],
   "source": [
    "data.PENGHASILAN.unique()"
   ]
  },
  {
   "cell_type": "code",
   "execution_count": null,
   "id": "798b4fab",
   "metadata": {},
   "outputs": [],
   "source": [
    "data_drop['PENGHASILAN'] = \\\n",
    "data_drop['PENGHASILAN'].map({'lebih dari 3x UMR':3,'antara 2-3x UMR':2,'antara 1-2x UMR':1,'kurang dari UMR':0})"
   ]
  },
  {
   "cell_type": "code",
   "execution_count": null,
   "id": "a2644db4",
   "metadata": {},
   "outputs": [],
   "source": [
    "data.PEMILIK_KENDARAAN.unique()"
   ]
  },
  {
   "cell_type": "code",
   "execution_count": null,
   "id": "50523e85",
   "metadata": {},
   "outputs": [],
   "source": [
    "data_drop['PEMILIK_KENDARAAN'] = \\\n",
    "data_drop['PEMILIK_KENDARAAN'].map({'ya':1, 'tidak':0})"
   ]
  },
  {
   "cell_type": "code",
   "execution_count": null,
   "id": "cc2db27a",
   "metadata": {},
   "outputs": [],
   "source": [
    "data.TAHUN_PRODUKSI.unique()"
   ]
  },
  {
   "cell_type": "code",
   "execution_count": null,
   "id": "9e2d22f7",
   "metadata": {},
   "outputs": [],
   "source": [
    "data_drop['TAHUN_PRODUKSI'] = \\\n",
    "data_drop['TAHUN_PRODUKSI'].map({'setelah 2020':1,'sebelum 2020':0})"
   ]
  },
  {
   "cell_type": "code",
   "execution_count": null,
   "id": "b242af79",
   "metadata": {},
   "outputs": [],
   "source": [
    "data.KLAIM.unique()"
   ]
  },
  {
   "cell_type": "code",
   "execution_count": null,
   "id": "baed7040",
   "metadata": {},
   "outputs": [],
   "source": [
    "data_drop['KLAIM'] = \\\n",
    "data_drop['KLAIM'].map({'tidak':1, 'ya':0})"
   ]
  },
  {
   "cell_type": "code",
   "execution_count": null,
   "id": "d3a731f7",
   "metadata": {},
   "outputs": [],
   "source": [
    "data.STATUS.unique()"
   ]
  },
  {
   "cell_type": "code",
   "execution_count": null,
   "id": "ad5f2458",
   "metadata": {},
   "outputs": [],
   "source": [
    "data_drop['STATUS'] = \\\n",
    "data_drop['STATUS'].map({'belum menikah':1, 'menikah':0})"
   ]
  },
  {
   "cell_type": "code",
   "execution_count": null,
   "id": "77f88173",
   "metadata": {},
   "outputs": [],
   "source": [
    "data.head()"
   ]
  },
  {
   "cell_type": "code",
   "execution_count": null,
   "id": "cbad89eb",
   "metadata": {},
   "outputs": [],
   "source": [
    "data.dtypes"
   ]
  },
  {
   "cell_type": "code",
   "execution_count": null,
   "id": "e07db0fb",
   "metadata": {},
   "outputs": [],
   "source": [
    "data.describe()"
   ]
  },
  {
   "cell_type": "code",
   "execution_count": null,
   "id": "9ec9409b",
   "metadata": {},
   "outputs": [],
   "source": [
    "from sklearn import preprocessing\n",
    "\n",
    "scaler = preprocessing.MinMaxScaler()\n",
    "d = scaler.fit_transform(data_drop)\n",
    "data_normalisasi = pd.DataFrame(d, columns=data_drop.columns)\n",
    "data_normalisasi.head(10)"
   ]
  },
  {
   "cell_type": "code",
   "execution_count": null,
   "id": "e241a7af",
   "metadata": {},
   "outputs": [],
   "source": []
  }
 ],
 "metadata": {
  "kernelspec": {
   "display_name": "Python 3 (ipykernel)",
   "language": "python",
   "name": "python3"
  },
  "language_info": {
   "codemirror_mode": {
    "name": "ipython",
    "version": 3
   },
   "file_extension": ".py",
   "mimetype": "text/x-python",
   "name": "python",
   "nbconvert_exporter": "python",
   "pygments_lexer": "ipython3",
   "version": "3.10.9"
  }
 },
 "nbformat": 4,
 "nbformat_minor": 5
}
